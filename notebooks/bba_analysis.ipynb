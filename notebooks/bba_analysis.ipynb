{
 "cells": [
  {
   "cell_type": "markdown",
   "metadata": {},
   "source": [
    "### HTML Formatierung für Markup"
   ]
  },
  {
   "cell_type": "code",
   "execution_count": 1,
   "metadata": {
    "pycharm": {
     "name": "#%%\n"
    }
   },
   "outputs": [
    {
     "data": {
      "text/html": [
       "<style>\n",
       "table {float:left}\n",
       ".output {\n",
       "    flex-direction: row;\n",
       "}\n",
       "</style>\n"
      ],
      "text/plain": [
       "<IPython.core.display.HTML object>"
      ]
     },
     "metadata": {},
     "output_type": "display_data"
    }
   ],
   "source": [
    "%%html\n",
    "<style>\n",
    "table {float:left}\n",
    ".output {\n",
    "    flex-direction: row;\n",
    "}\n",
    "</style>"
   ]
  },
  {
   "cell_type": "markdown",
   "metadata": {},
   "source": [
    "# Analyse von Berliner Fahrradunfällen"
   ]
  },
  {
   "cell_type": "markdown",
   "metadata": {},
   "source": [
    "## Initialisierung"
   ]
  },
  {
   "cell_type": "markdown",
   "metadata": {
    "pycharm": {
     "name": "#%% md\n"
    }
   },
   "source": [
    "### Schritt 1.1: Import von Paketen und Definition von Funktionen"
   ]
  },
  {
   "cell_type": "code",
   "execution_count": null,
   "metadata": {
    "pycharm": {
     "name": "#%%\n"
    }
   },
   "outputs": [],
   "source": [
    "# Package imports\n",
    "import configparser\n",
    "import ast\n",
    "import numpy as np\n",
    "import pandas as pd\n",
    "import geopandas as gpd\n",
    "from scipy import stats\n",
    "import seaborn as sns\n",
    "import matplotlib.pyplot as plt\n",
    "from matplotlib.colors import LogNorm\n",
    "\n",
    "import warnings\n",
    "\n",
    "warnings.filterwarnings(\"ignore\")  # ignore warnings\n",
    "\n",
    "\n",
    "# function definitions\n",
    "def addBarLabels(ax):\n",
    "    for bars in ax.containers:\n",
    "        labels = [f'{x:.1%}' if x > 0.01 else '' for x in bars.datavalues]\n",
    "        ax.bar_label(bars, labels=labels, label_type='center', fontsize=8)\n",
    "\n",
    "\n",
    "def addBarTotals(totals, pad):\n",
    "    for i, t in enumerate(totals):\n",
    "        ax.text(i, pad, f'n={t}', ha='center', fontsize=8, color='grey')#, weight='bold')\n",
    "\n",
    "\n",
    "def addVerticalConnectors(ax, rows):\n",
    "    height = ax.patches[0].get_height()\n",
    "    stacks = len(ax.patches) // rows\n",
    "\n",
    "    for i in range(stacks):\n",
    "        for j in range(0, rows - 1):\n",
    "            h0 = np.sum([ax.patches[j + rows * k].get_width() for k in range(0, i + 1)])\n",
    "            h1 = np.sum([ax.patches[j + 1 + rows * k].get_width() for k in range(0, i + 1)])\n",
    "            ax.plot([h0, h1], [j + height / 2, j + 1 - height / 2], color='grey', ls='--', zorder=1, linewidth=0.8)\n",
    "\n",
    "\n",
    "def addHorizontalConnectors(ax, rows):\n",
    "    width = ax.patches[0].get_width()\n",
    "    stacks = len(ax.patches) // rows\n",
    "\n",
    "    for i in range(stacks):\n",
    "        for j in range(0, rows - 1):\n",
    "            h0 = np.sum([ax.patches[j + rows * k].get_height() for k in range(0, i + 1)])\n",
    "            h1 = np.sum([ax.patches[j + 1 + rows * k].get_height() for k in range(0, i + 1)])\n",
    "            ax.plot([j + width / 2, j + 1 - width / 2], [h0, h1], color='grey', ls='--', zorder=1, linewidth=0.8)\n",
    "\n",
    "\n",
    "def setAxisStyle(xlabel, xticklabels, x_frame_on, y_visible):\n",
    "    ax.set_xlabel(xlabel)\n",
    "    ax.set_xticklabels(xticklabels, rotation=0, fontsize=8)\n",
    "    ax.set(frame_on=x_frame_on)\n",
    "    ax.yaxis.set_visible(y_visible)"
   ]
  },
  {
   "cell_type": "markdown",
   "metadata": {
    "pycharm": {
     "name": "#%%\n"
    }
   },
   "source": [
    "### Schritt 1.2: Laden der Konfiguration aus der `config.ini`"
   ]
  },
  {
   "cell_type": "code",
   "execution_count": null,
   "metadata": {
    "pycharm": {
     "name": "#%%\n"
    }
   },
   "outputs": [],
   "source": [
    "rel_path = './../'\n",
    "\n",
    "# read local config.ini file\n",
    "config = configparser.ConfigParser()\n",
    "config.read(rel_path + 'config.ini')\n",
    "\n",
    "# get from config.ini\n",
    "dir_output = rel_path + config['FILE_SETTINGS']['DIR_OUTPUT']\n",
    "gpkg_src = dir_output + config['FILE_SETTINGS']['GPKG_NAME']\n",
    "\n",
    "# color palettes\n",
    "colors3 = ast.literal_eval(config['CONFIG']['COLORS3'])\n",
    "colors4 = ast.literal_eval(config['CONFIG']['COLORS4'])"
   ]
  },
  {
   "cell_type": "markdown",
   "metadata": {
    "pycharm": {
     "name": "#%% md\n"
    }
   },
   "source": [
    "### Schritt 1.3: Laden der Unfalldaten\n",
    "\n",
    "Die Unfalldaten wurden in den vorherigen Workflow-Schritten verarbeitet und aufbereitet, um diese hinsichtlich des Tempolimits und der Radverkehrsanlagen analysieren zu können.\n",
    "\n",
    "Die Daten befinden sich im dafür erstellen GeoPackage `map_data.gpkg` mit folgenden Layern:\n",
    "\n",
    "| Layer | Daten | Beschreibung |\n",
    "|:---|:---|:---|\n",
    "| bike_accidents | Point (19557) | Unfalldaten nach Worfklow-Schritt 1, ohne abgeleitetes Tempolimit/RVA |\n",
    "| **bike_accidents_ext** | **Point (19557)** | **Aufbereitete Unfalldaten nach Worfklow-Schritt 2, erweitert um Tempolimit/RVA** |\n",
    "| fis_rva | LineString (18641) | Vorprozessierter FIS-Broker Datensatz zu RVA |\n",
    "| fis_strassenabschnitte | LineString (43346) | Vorprozessierter FIS-Broker Datensatz zu RVA |\n",
    "| fis_tempolimit | LineString (29424) | Vorprozessierter FIS-Broker Datensatz zu Tempolimits |"
   ]
  },
  {
   "cell_type": "markdown",
   "metadata": {},
   "source": [
    "Um die Daten einfacher visualisieren zu können, wird das Tempolimit zunächst in einen `Int64` Datentyp umgewandelt. Für die Erstellung der Plots wird zwischen zwei Grundgesamtheiten unterschieden:\n",
    "\n",
    "* **RVA**: alle Berliner Fahrradunfälle\n",
    "* **Tempolimit**: nur Fahrradunfälle, wo ein Tempolimit von 30km/h oder höher relevant ist, d.h. exkl. Unfälle zwischen Fahrradfahrer:innen, Fußgänger:innen etc."
   ]
  },
  {
   "cell_type": "code",
   "execution_count": null,
   "metadata": {
    "pycharm": {
     "name": "#%%\n"
    }
   },
   "outputs": [],
   "source": [
    "# read preprocessed files\n",
    "df_bike_acc = gpd.read_file(gpkg_src, layer='bike_accidents_ext')\n",
    "df_bike_acc['speed_der'] = df_bike_acc['speed_der'].astype('Int64')\n",
    "df_bike_acc_speed = df_bike_acc.loc[df_bike_acc['speed_rel']]"
   ]
  },
  {
   "cell_type": "markdown",
   "metadata": {},
   "source": [
    "***"
   ]
  },
  {
   "cell_type": "markdown",
   "metadata": {},
   "source": [
    "## Heatmap"
   ]
  },
  {
   "cell_type": "markdown",
   "metadata": {
    "pycharm": {
     "name": "#%% md\n"
    }
   },
   "source": [
    "### Schritt 2.1: Erstellung je einer Kontingenztafel \n",
    "\n",
    "**Absolute** Unfallhäufigkeiten nach RVA/Tempolimit und Unfallschwere"
   ]
  },
  {
   "cell_type": "code",
   "execution_count": null,
   "metadata": {
    "pycharm": {
     "name": "#%%\n"
    }
   },
   "outputs": [],
   "source": [
    "# crosstab with absolute values\n",
    "crosstab_speed = pd.crosstab(df_bike_acc_speed['UKATEGORIE'],df_bike_acc_speed['speed_der'].fillna(0),margins=True)\n",
    "crosstab_speed.rename(columns={0: \"NA\"},inplace=True)\n",
    "crosstab_rva = pd.crosstab(df_bike_acc['UKATEGORIE'],df_bike_acc['rank_rva'],margins=True)"
   ]
  },
  {
   "cell_type": "code",
   "execution_count": null,
   "metadata": {
    "pycharm": {
     "name": "#%%\n"
    }
   },
   "outputs": [],
   "source": [
    "# optional: print version includes margins (totals)\n",
    "display(crosstab_rva)\n",
    "display(crosstab_speed)"
   ]
  },
  {
   "cell_type": "markdown",
   "metadata": {
    "pycharm": {
     "name": "#%% md\n"
    }
   },
   "source": [
    "### Schritt 2.2: Visualisierung als Heatmaps"
   ]
  },
  {
   "cell_type": "code",
   "execution_count": null,
   "metadata": {
    "pycharm": {
     "name": "#%%\n"
    }
   },
   "outputs": [],
   "source": [
    "y_axis_labels = ['Todesfolge','Schwerverletzt','Leichtverletzt'] # labels for y-axis\n",
    "x_axis_labels_rva = ['keine','Busspur','Radfahr-\\nstreifen','Radweg'] # labels for x-axis\n",
    "\n",
    "# start plotting...\n",
    "fig,(ax1,ax2, axcb) = plt.subplots(1,3, figsize=(12, 4), gridspec_kw={'width_ratios':[0.4,0.9,0.05]})\n",
    "ax1.get_shared_y_axes().join(ax2)\n",
    "\n",
    "# RVA heatmap (without margins)\n",
    "ax = sns.heatmap(crosstab_rva.iloc[0:3,0:4],cbar=False,ax=ax1,\n",
    "                 cmap='Reds', annot=True, fmt=\"g\", square=True,linewidths=2, norm=LogNorm())\n",
    "ax.set_ylabel('')\n",
    "ax.set_xlabel('')\n",
    "ax.set_xticklabels(x_axis_labels_rva)\n",
    "ax.set_yticklabels(y_axis_labels, rotation=0,fontsize=8)\n",
    "ax.xaxis.set_tick_params(labelsize=8)\n",
    "ax.title.set_text(f'Unfallschwere nach RVA\\n(n={len(df_bike_acc)})\\n')\n",
    "\n",
    "# speed limit heatmap (without margins)\n",
    "ax = sns.heatmap(crosstab_speed.iloc[0:3,0:9],ax=ax2, cbar_ax=axcb, cmap='Reds',annot=True, fmt=\"g\", square=True,linewidths=2, norm=LogNorm())\n",
    "ax.set_ylabel('')\n",
    "ax.set_xlabel('Tempolimit (km/h)',fontsize=10)\n",
    "ax.set_yticks([])\n",
    "ax.xaxis.set_tick_params(labelsize=8)\n",
    "ax.title.set_text(f'Unfallschwere nach Tempolimit\\n(n={len(df_bike_acc_speed)})\\n')\n",
    "\n",
    "# finish plotting...\n",
    "plt.suptitle('Anzahl von Fahrradunfällen', fontsize=16)\n",
    "plt.tight_layout(w_pad=4.0, pad=2)\n",
    "#plt.show()"
   ]
  },
  {
   "cell_type": "markdown",
   "metadata": {},
   "source": [
    "***\n"
   ]
  },
  {
   "cell_type": "markdown",
   "metadata": {},
   "source": []
  },
  {
   "cell_type": "markdown",
   "metadata": {
    "pycharm": {
     "name": "#%% md\n"
    }
   },
   "source": [
    "\n",
    "## Balkendiagramme\n",
    "\n",
    "### Schritt 3.1: Erstellung je einer Kontingenztafel \n",
    "\n",
    "**Relative** Unfallhäufigkeiten nach RVA/Tempolimit und Unfallschwere, normalisiert nach **Unfallkategorie/-schwere**\n",
    "\n",
    "*Hinweis: für das Tempolimit werden von nun an nur noch Unfälle in 30er, 50er und 60er Zonen berücksichtigt, da für die anderen Tempolimits die Anzahl an Unfällen zu gering ist*"
   ]
  },
  {
   "cell_type": "code",
   "execution_count": null,
   "metadata": {
    "pycharm": {
     "name": "#%%\n"
    }
   },
   "outputs": [],
   "source": [
    "# crosstab with percentage values (filtered for speed limits 30, 50, 60)\n",
    "# -> normalized by index\n",
    "df_bike_acc_speed_sel = df_bike_acc_speed[df_bike_acc_speed['speed_der'].isin([30,50,60])]\n",
    "crosstab_speed_sel = pd.crosstab(df_bike_acc_speed_sel['UKATEGORIE'],df_bike_acc_speed_sel['speed_der'],margins=True)\n",
    "crosstab_speed_sel_norm = pd.crosstab(df_bike_acc_speed_sel['UKATEGORIE'],df_bike_acc_speed_sel['speed_der'],normalize='index')\n",
    "crosstab_rva_norm = pd.crosstab(df_bike_acc['UKATEGORIE'],df_bike_acc['rank_rva'],normalize='index')"
   ]
  },
  {
   "cell_type": "code",
   "execution_count": null,
   "metadata": {
    "pycharm": {
     "name": "#%%\n"
    }
   },
   "outputs": [],
   "source": [
    "# optional\n",
    "display(crosstab_rva_norm)\n",
    "display(crosstab_speed_sel_norm)"
   ]
  },
  {
   "cell_type": "markdown",
   "metadata": {
    "pycharm": {
     "name": "#%% md\n"
    }
   },
   "source": [
    "### Schritt 3.2: Visualisierung Balkendiagramme"
   ]
  },
  {
   "cell_type": "code",
   "execution_count": null,
   "metadata": {
    "pycharm": {
     "name": "#%%\n"
    }
   },
   "outputs": [],
   "source": [
    "# RVA plot from right to left -> reverse data\n",
    "crosstab_rva_norm_rev = crosstab_rva_norm[crosstab_rva_norm.columns[::-1]]\n",
    "labels_rva = reversed(x_axis_labels_rva)\n",
    "\n",
    "# get totals for each stacked bar\n",
    "totals_rva = crosstab_rva['All'][0:3]\n",
    "totals_speed = crosstab_speed_sel['All'][0:3]\n",
    "\n",
    "# start plotting...\n",
    "fig, (ax1,ax2) = plt.subplots(ncols=2, sharey=True, figsize=(12, 4))\n",
    "\n",
    "# RVA horizontal bars\n",
    "ax = crosstab_rva_norm_rev.plot.barh(stacked=True, color=colors4, ax=ax1,  width=0.75)\n",
    "addBarLabels(ax)\n",
    "addVerticalConnectors(ax, len(crosstab_rva_norm_rev))\n",
    "ax.axis('off')\n",
    "ax.invert_yaxis()\n",
    "ax.invert_xaxis()\n",
    "\n",
    "# add legend for RVA\n",
    "handles, labels = ax.get_legend_handles_labels()\n",
    "leg = ax.legend(reversed(handles), reversed([w.replace('-\\n', '') for w in labels_rva]),\n",
    "                bbox_to_anchor=(1.01,-0.15), loc='lower right',\n",
    "                ncol = 4, frameon=False, title='Radverkehrsanlage', fontsize=8)\n",
    "leg._legend_box.align = \"right\"\n",
    "\n",
    "# add y labels and totals in between the bars\n",
    "for yloc, state in enumerate(y_axis_labels):\n",
    "    ax.annotate(state, (0.5, yloc), xycoords=('figure fraction', 'data'),\n",
    "                fontsize=8, ha='center', va='center')\n",
    "    ax.annotate(f'n={totals_rva[yloc+1]}', (0.44, yloc+.25), xycoords=('figure fraction', 'data'),\n",
    "                fontsize=8, color='grey', ha='left', va='center')\n",
    "    ax.annotate(f'n={totals_speed[yloc + 1]}', (0.56, yloc + .25), xycoords=('figure fraction', 'data'),\n",
    "                fontsize=8, color='grey', ha='right', va='center')\n",
    "\n",
    "# speed limit horizontal bars\n",
    "ax = crosstab_speed_sel_norm.plot.barh(stacked=True, color=colors3, ax=ax2,  width=0.75)\n",
    "addBarLabels(ax)\n",
    "addVerticalConnectors(ax, len(crosstab_speed_sel_norm))\n",
    "ax.axis('off')\n",
    "ax.invert_yaxis()\n",
    "\n",
    "# add legend for speed limit\n",
    "leg = ax.legend(bbox_to_anchor=(-0.01,-0.15), loc='lower left',\n",
    "                ncol=3, frameon=False, title='Tempolimit (km/h)', fontsize=8)\n",
    "leg._legend_box.align = \"left\"\n",
    "\n",
    "# finish plotting...\n",
    "plt.suptitle('Prozentuale Verteilung von Fahrradunfällen nach Unfallschwere', fontsize=16)\n",
    "plt.tight_layout(w_pad=4, pad=1)"
   ]
  },
  {
   "cell_type": "markdown",
   "metadata": {
    "pycharm": {
     "name": "#%% md\n"
    }
   },
   "source": [
    "***\n",
    "\n",
    "## Säulendiagramme\n",
    "\n",
    "### Schritt 4.1: Erstellung je einer Kontingenztafel \n",
    "\n",
    "**Relative** Unfallhäufigkeiten nach RVA/Tempolimit und Unfallschwere, normalisiert nach **RVA/Tempolimit**"
   ]
  },
  {
   "cell_type": "code",
   "execution_count": null,
   "metadata": {
    "pycharm": {
     "name": "#%%\n"
    }
   },
   "outputs": [],
   "source": [
    "# crosstab with percentage values (filtered for speed limits 30, 50, 60)\n",
    "# -> normalized by columns\n",
    "crosstab_speed_sel_norm = pd.crosstab(df_bike_acc_speed_sel['UKATEGORIE'],df_bike_acc_speed_sel['speed_der'],normalize='columns').sort_index(ascending=False)\n",
    "crosstab_rva_norm = pd.crosstab(df_bike_acc['UKATEGORIE'],df_bike_acc['rank_rva'],normalize='columns').sort_index(ascending=False)"
   ]
  },
  {
   "cell_type": "code",
   "execution_count": null,
   "metadata": {
    "pycharm": {
     "name": "#%%\n"
    }
   },
   "outputs": [],
   "source": [
    "# optional\n",
    "display(crosstab_rva_norm)\n",
    "display(crosstab_speed_sel_norm)"
   ]
  },
  {
   "cell_type": "markdown",
   "metadata": {
    "pycharm": {
     "name": "#%% md\n"
    }
   },
   "source": [
    "### Schritt 4.2: Visualisierung Säulendiagramme"
   ]
  },
  {
   "cell_type": "code",
   "execution_count": null,
   "metadata": {
    "pycharm": {
     "name": "#%%\n"
    }
   },
   "outputs": [],
   "source": [
    "# start plotting...\n",
    "fig, (ax1,ax2) = plt.subplots(ncols=2, sharey=True, figsize=(12, 4), gridspec_kw={'width_ratios':[0.8,0.6]})\n",
    "\n",
    "# stacked bars for RVA\n",
    "ax = crosstab_rva_norm.T.plot.bar(stacked=True, ax=ax1, legend=False, width=0.75, color=colors3)\n",
    "addBarLabels(ax)\n",
    "addHorizontalConnectors(ax, len(crosstab_rva_norm.T))\n",
    "addBarTotals(crosstab_rva.loc['All'][0:4], 1.02)\n",
    "setAxisStyle('', x_axis_labels_rva, False, False)\n",
    "\n",
    "# stacked bars for speed limit\n",
    "ax = crosstab_speed_sel_norm.T.plot.bar(stacked=True, ax=ax2, legend=False, width=0.75, color=colors3)\n",
    "addBarLabels(ax)\n",
    "addHorizontalConnectors(ax, len(crosstab_speed_sel_norm.T))\n",
    "addBarTotals(crosstab_speed_sel.loc['All'][0:3], 1.02)\n",
    "setAxisStyle('Tempolimit (km/h)', ax.get_xticklabels(), False, False)\n",
    "\n",
    "# create joint legend\n",
    "handles, labels = ax.get_legend_handles_labels()\n",
    "leg = fig.legend([ax1, ax2], handles=reversed(handles), labels=y_axis_labels,\n",
    "           loc=1, bbox_to_anchor=(1,0.8),\n",
    "           frameon=False, title='Unfallschwere', fontsize=8)\n",
    "leg._legend_box.align = \"left\"\n",
    "\n",
    "# finish plotting...\n",
    "plt.suptitle('Prozentuale Verteilung von Fahrradunfällen nach Straßenbedingung', fontsize=16)\n",
    "plt.tight_layout(w_pad=1, pad=1.5)\n",
    "fig.subplots_adjust(right=0.9)"
   ]
  },
  {
   "cell_type": "markdown",
   "metadata": {
    "pycharm": {
     "name": "#%% md\n"
    }
   },
   "source": [
    "***\n",
    "\n",
    "## Statistik\n",
    "\n",
    "### Schritt 5: Ermittlung des Rangkorrelationskoeffizient nach Spearman"
   ]
  },
  {
   "cell_type": "code",
   "execution_count": null,
   "metadata": {
    "pycharm": {
     "name": "#%%\n"
    }
   },
   "outputs": [],
   "source": [
    "res_speed = stats.spearmanr(df_bike_acc['UKATEGORIE'], df_bike_acc['rank_rva'])\n",
    "print(f'Correlation (UKATEGORIE x RVA): {res_speed.correlation:.5f}, p-value: {res_speed.pvalue:.5f}')\n",
    "\n",
    "res_speed = stats.spearmanr(df_bike_acc_speed_sel['UKATEGORIE'], df_bike_acc_speed_sel['speed_der'])\n",
    "print(f'Correlation (UKATEGORIE x Speed): {res_speed.correlation:.5f}, p-value: {res_speed.pvalue:.5f}')"
   ]
  },
  {
   "cell_type": "markdown",
   "metadata": {
    "pycharm": {
     "name": "#%% md\n"
    }
   },
   "source": [
    "|  | RVA | Tempolimit |\n",
    "|--:|:--:|:--:|\n",
    "|$r_s$|-0.02121|-0.03153|\n",
    "|p-Wert|0.00301|0.00008|"
   ]
  },
  {
   "cell_type": "markdown",
   "metadata": {
    "pycharm": {
     "name": "#%% md\n"
    }
   },
   "source": [
    "**Ergebnis**: \n",
    "\n",
    "* für beide Faktoren (RVA und Tempolimit) ist der Rangkorrelationskoeffizient $r_s < 0.1$. Es besteht keine Korrelation mit der Unfallschwere\n",
    "* für beide Faktoren (RVA und Tempolimit) liegt der p-Wert unter dem Signifikanzniveau von $\\alpha = 0.05$, d.h. das Ergebnis ist statistisch signifikant"
   ]
  },
  {
   "cell_type": "markdown",
   "metadata": {},
   "source": [
    "***"
   ]
  },
  {
   "cell_type": "markdown",
   "metadata": {},
   "source": [
    "# Ausblick: Analyse nach Unfallkategorie"
   ]
  },
  {
   "cell_type": "markdown",
   "metadata": {},
   "source": [
    "# Säulendiagramme"
   ]
  },
  {
   "cell_type": "markdown",
   "metadata": {
    "pycharm": {
     "name": "#%% md\n"
    }
   },
   "source": [
    "### Schritt 6.1: Erstellung je einer Kontingenztafel \n",
    "\n",
    "**Relative** Unfallhäufigkeiten nach RVA/Tempolimit und **Unfallkategorie**, normalisiert nach **RVA/Tempolimit**"
   ]
  },
  {
   "cell_type": "code",
   "execution_count": null,
   "metadata": {
    "pycharm": {
     "name": "#%%\n"
    }
   },
   "outputs": [],
   "source": [
    "# crosstab with percentage values (filtered for speed limits 30, 50, 60)\n",
    "# -> normalized by columns\n",
    "crosstab_speed_sel = pd.crosstab(df_bike_acc_speed_sel['UART'],df_bike_acc_speed_sel['speed_der'],margins=True)\n",
    "\n",
    "crosstab_speed_sel_norm = pd.crosstab(df_bike_acc_speed_sel['UART'],df_bike_acc_speed_sel['speed_der'],normalize='columns').sort_index(ascending=False)\n",
    "crosstab_rva_norm = pd.crosstab(df_bike_acc['UART'],df_bike_acc['rank_rva'],normalize='columns').sort_index(ascending=False)"
   ]
  },
  {
   "cell_type": "code",
   "execution_count": null,
   "metadata": {
    "pycharm": {
     "name": "#%%\n"
    }
   },
   "outputs": [],
   "source": [
    "display(crosstab_speed_sel_norm)\n",
    "display(crosstab_rva_norm)"
   ]
  },
  {
   "cell_type": "markdown",
   "metadata": {},
   "source": [
    "### Schritt 6.2: Visualisierung Säulendiagramme"
   ]
  },
  {
   "cell_type": "code",
   "execution_count": null,
   "metadata": {
    "pycharm": {
     "name": "#%%\n"
    }
   },
   "outputs": [],
   "source": [
    "y_axis_labels = ['Unfall anderer Art',\n",
    "                 'Zusammenstoß mit anfahrendem/\\nanhaltendem/ruhendem Fahrzeug',\n",
    "                 'Zusammenstoß mit vorausfahrendem/\\nwartendem Fahrzeug',\n",
    "                 'Zusammenstoß mit seitlich in\\ngleicher Richtung fahrendem Fahrzeug',\n",
    "                 'Zusammenstoß mit entgegen-\\nkommendem Fahrzeug',\n",
    "                 'Zusammenstoß mit einbiegendem/\\nkreuzendem Fahrzeug',\n",
    "                 'Zusammenstoß zwischen Fahrzeug\\nund Fußgänger',\n",
    "                 'Aufprall auf Fahrbahnhindernis',\n",
    "                 'Abkommen von Fahrbahn nach rechts',\n",
    "                 'Abkommen von Fahrbahn nach links'] # labels for y-axis\n",
    "\n",
    "cmap = plt.get_cmap(\"Paired\")\n",
    "y = crosstab_rva_norm.index\n",
    "rescale = lambda y: (y - np.min(y)) / (np.max(y) - np.min(y))\n",
    "\n",
    "# start plotting...\n",
    "fig, (ax1,ax2) = plt.subplots(ncols=2, sharey=True, figsize=(12, 8), gridspec_kw={'width_ratios':[0.8,0.6]})\n",
    "\n",
    "# stacked bars for RVA\n",
    "ax = crosstab_rva_norm.T.plot.bar(stacked=True, ax=ax1, legend=False, width=0.75, color=cmap(rescale(y)))\n",
    "addBarLabels(ax)\n",
    "addHorizontalConnectors(ax, len(crosstab_rva_norm.T))\n",
    "addBarTotals(crosstab_rva.loc['All'][0:4], 1.01)\n",
    "setAxisStyle('', x_axis_labels_rva, False, False)\n",
    "\n",
    "# stacked bars for speed limit\n",
    "ax = crosstab_speed_sel_norm.T.plot.bar(stacked=True, ax=ax2, legend=False, width=0.75, color=cmap(rescale(y)))\n",
    "addBarLabels(ax)\n",
    "addHorizontalConnectors(ax, len(crosstab_speed_sel_norm.T))\n",
    "addBarTotals(crosstab_speed_sel.loc['All'][0:3], 1.01)\n",
    "setAxisStyle('Tempolimit (km/h)', ax.get_xticklabels(), False, False)\n",
    "\n",
    "# create joint legend\n",
    "handles, labels = ax.get_legend_handles_labels()\n",
    "leg = fig.legend([ax1, ax2], handles=reversed(handles), labels=y_axis_labels,\n",
    "           loc=1, bbox_to_anchor=(0.975,0.89),\n",
    "           frameon=False, title='Unfallart', fontsize=8)\n",
    "leg._legend_box.align = \"left\"\n",
    "\n",
    "# finish plotting...\n",
    "plt.suptitle('Prozentuale Verteilung von Fahrradunfällen nach Straßenbedingung', fontsize=16)\n",
    "plt.tight_layout(w_pad=1, pad=1.5)\n",
    "fig.subplots_adjust(right=0.75)"
   ]
  },
  {
   "cell_type": "code",
   "execution_count": null,
   "metadata": {
    "pycharm": {
     "name": "#%%\n"
    }
   },
   "outputs": [],
   "source": []
  }
 ],
 "metadata": {
  "kernelspec": {
   "display_name": "Python 3 (ipykernel)",
   "language": "python",
   "name": "python3"
  },
  "language_info": {
   "codemirror_mode": {
    "name": "ipython",
    "version": 3
   },
   "file_extension": ".py",
   "mimetype": "text/x-python",
   "name": "python",
   "nbconvert_exporter": "python",
   "pygments_lexer": "ipython3",
   "version": "3.9.15"
  }
 },
 "nbformat": 4,
 "nbformat_minor": 1
}
